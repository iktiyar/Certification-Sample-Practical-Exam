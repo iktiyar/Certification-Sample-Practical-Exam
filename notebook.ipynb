{
 "cells": [
  {
   "cell_type": "markdown",
   "id": "0a8ca74a-b235-4034-9c1c-3159336a39d5",
   "metadata": {},
   "source": [
    "# Practical Exam: Supermarket Loyalty\n",
    "\n",
    "International Essentials is an international supermarket chain.\n",
    "\n",
    "Shoppers at their supermarkets can sign up for a loyalty program that provides rewards each year to customers based on their spending. The more you spend the bigger the rewards. \n",
    "\n",
    "The supermarket would like to be able to predict the likely amount customers in the program will spend, so they can estimate the cost of the rewards. \n",
    "\n",
    "This will help them to predict the likely profit at the end of the year.\n",
    "\n",
    "## Data\n",
    "\n",
    "The dataset contains records of customers for their last full year of the loyalty program.\n",
    "\n",
    "| Column Name | Criteria                                                |\n",
    "|-------------|---------------------------------------------------------|\n",
    "|customer_id | Unique identifier for the customer. </br>Missing values are not possible due to the database structure. |\n",
    "|spend | Continuous. </br>The total spend of the customer in their last full year. This can be any positive value to two decimal places. </br>Missing values should be replaced with 0. |\n",
    "|first_month | Continuous. </br>The amount spent by the customer in their first month of the year. This can be any positive value, rounded to two decimal places. </br>Missing values should be replaced with 0. |\n",
    "| items_in_first_month | Discrete. </br>The number of items purchased in the first month. Any integer value greater than or equal to zero. </br>Missing values should be replaced by 0. |  \n",
    "| region | Nominal. </br>The geographic region that the customer is based in. One of four values Americas, Asia/Pacific, Europe, Middle East/Africa. </br>Missing values should be replaced with \"Unknown\". |\n",
    "| loyalty_years | Oridinal. </br>The number of years the customer has been a part of the loyalty program. One of five ordered categories, '0-1', '1-3', '3-5', '5-10', '10+'. </br>Missing values should be replaced with '0-1'.|\n",
    "| joining_month | Nominal. </br>The month the customer joined the loyalty program. One of 12 values \"Jan\", \"Feb\", \"Mar\", \"Apr\", etc. </br>Missing values should be replaced with \"Unknown\".|\n",
    "| promotion | Nominal. </br>Did the customer join the loyalty program as part of a promotion? Either 'Yes' or 'No'. </br>Missing values should be replaced with 'No'.|\n"
   ]
  },
  {
   "cell_type": "markdown",
   "id": "790f8bb8-76fb-44fd-8078-c62909a91b2b",
   "metadata": {},
   "source": [
    "# Task 1\n",
    "\n",
    "Before you fit any models, you will need to make sure the data is clean. \n",
    "\n",
    "The table below shows what the data should look like. \n",
    "\n",
    "Create a cleaned version of the dataframe. \n",
    "\n",
    " - You should start with the data in the file \"loyalty.csv\". \n",
    "\n",
    " - Your output should be a dataframe named `clean_data`. \n",
    "\n",
    " - All column names and values should match the table below.\n",
    "\n",
    "| Column Name | Criteria                                                |\n",
    "|-------------|---------------------------------------------------------|\n",
    "|customer_id | Unique identifier for the customer. </br>Missing values are not possible due to the database structure. |\n",
    "|spend | Continuous. </br>The total spend of the customer in their last full year. This can be any positive value to two decimal places. </br>Missing values should be replaced with 0. |\n",
    "|first_month | Continuous. </br>The amount spent by the customer in their first month of the year. This can be any positive value, rounded to two decimal places. </br>Missing values should be replaced with 0. |\n",
    "| items_in_first_month | Discrete. </br>The number of items purchased in the first month. Any integer value greater than or equal to zero. </br>Missing values should be replaced by 0. |  \n",
    "| region | Nominal. </br>The geographic region that the customer is based in. One of four values Americas, Asia/Pacific, Europe, Middle East/Africa. </br>Missing values should be replaced with \"Unknown\". |\n",
    "| loyalty_years | Oridinal. </br>The number of years the customer has been a part of the loyalty program. One of five ordered categories, '0-1', '1-3', '3-5', '5-10', '10+'. </br>Missing values should be replaced with '0-1'.|\n",
    "| joining_month | Nominal. </br>The month the customer joined the loyalty program. One of 12 values \"Jan\", \"Feb\", \"Mar\", \"Apr\", etc. </br>Missing values should be replaced with \"Unknown\".|\n",
    "| promotion | Nominal. </br>Did the customer join the loyalty program as part of a promotion? Either 'Yes' or 'No'. </br>Missing values should be replaced with 'No'.|"
   ]
  },
  {
   "cell_type": "code",
   "execution_count": 99,
   "id": "523dd03c-8591-4cc6-b750-d71da287745f",
   "metadata": {
    "executionCancelledAt": null,
    "executionTime": 10,
    "lastExecutedAt": 1716802619712,
    "lastExecutedByKernel": "d0829d6a-0a12-429c-99a9-2cc5c13e0a71",
    "lastScheduledRunId": null,
    "lastSuccessfullyExecutedCode": "# Use this cell to write your code for Task 1\nimport pandas as pd"
   },
   "outputs": [],
   "source": [
    "# Use this cell to write your code for Task 1\n",
    "import pandas as pd"
   ]
  },
  {
   "cell_type": "code",
   "execution_count": 100,
   "id": "38706f58-1be5-4f94-9bee-0747befc31ce",
   "metadata": {
    "executionCancelledAt": null,
    "executionTime": 47,
    "lastExecutedAt": 1716802619759,
    "lastExecutedByKernel": "d0829d6a-0a12-429c-99a9-2cc5c13e0a71",
    "lastScheduledRunId": null,
    "lastSuccessfullyExecutedCode": "def wrangle(filepath):\n    df = pd.read_csv(filepath)\n    ## TASK 1\n    \n    # replace 'joininig_month' missing values with 'Unknown'\n    df['joining_month'].fillna('Unknown',inplace=True)\n    # cnverting dtypes 'first_month' to float \n    df['first_month'] = pd.to_numeric(df['first_month'],errors='coerce')\n    # replacing missing value with 0 in 'first_month' column\n    df['first_month'].fillna(0,inplace=True)\n    # continuous columns rounding upto 2 decimal points\n    df[['spend','first_month']]= df[['spend','first_month']].round(2)\n    # string in promotion column converting to same case ('title')\n    df['promotion'] = df['promotion'].str.title()\n    \n    return df"
   },
   "outputs": [],
   "source": [
    "def wrangle(filepath):\n",
    "    df = pd.read_csv(filepath)\n",
    "    ## TASK 1\n",
    "    \n",
    "    # replace 'joininig_month' missing values with 'Unknown'\n",
    "    df['joining_month'].fillna('Unknown',inplace=True)\n",
    "    # cnverting dtypes 'first_month' to float \n",
    "    df['first_month'] = pd.to_numeric(df['first_month'],errors='coerce')\n",
    "    # replacing missing value with 0 in 'first_month' column\n",
    "    df['first_month'].fillna(0,inplace=True)\n",
    "    # continuous columns rounding upto 2 decimal points\n",
    "    df[['spend','first_month']]= df[['spend','first_month']].round(2)\n",
    "    # string in promotion column converting to same case ('title')\n",
    "    df['promotion'] = df['promotion'].str.title()\n",
    "    \n",
    "    return df"
   ]
  },
  {
   "cell_type": "code",
   "execution_count": 101,
   "id": "7a6abe0a-4450-476d-8c75-fe19fc82a88b",
   "metadata": {
    "executionCancelledAt": null,
    "executionTime": 52,
    "lastExecutedAt": 1716802619811,
    "lastExecutedByKernel": "d0829d6a-0a12-429c-99a9-2cc5c13e0a71",
    "lastScheduledRunId": null,
    "lastSuccessfullyExecutedCode": "clean_data = wrangle('loyalty.csv')"
   },
   "outputs": [],
   "source": [
    "clean_data = wrangle('loyalty.csv')"
   ]
  },
  {
   "cell_type": "code",
   "execution_count": 102,
   "id": "f4d9cf74-734f-4456-b090-946601b31a43",
   "metadata": {
    "executionCancelledAt": null,
    "executionTime": 56,
    "lastExecutedAt": 1716802619869,
    "lastExecutedByKernel": "d0829d6a-0a12-429c-99a9-2cc5c13e0a71",
    "lastScheduledRunId": null,
    "lastSuccessfullyExecutedCode": "clean_data.info()",
    "outputsMetadata": {
     "0": {
      "height": 332,
      "type": "stream"
     }
    }
   },
   "outputs": [
    {
     "name": "stdout",
     "output_type": "stream",
     "text": [
      "<class 'pandas.core.frame.DataFrame'>\n",
      "RangeIndex: 1246 entries, 0 to 1245\n",
      "Data columns (total 8 columns):\n",
      " #   Column                Non-Null Count  Dtype  \n",
      "---  ------                --------------  -----  \n",
      " 0   customer_id           1246 non-null   int64  \n",
      " 1   spend                 1246 non-null   float64\n",
      " 2   first_month           1246 non-null   float64\n",
      " 3   items_in_first_month  1246 non-null   int64  \n",
      " 4   region                1246 non-null   object \n",
      " 5   loyalty_years         1246 non-null   object \n",
      " 6   joining_month         1246 non-null   object \n",
      " 7   promotion             1246 non-null   object \n",
      "dtypes: float64(2), int64(2), object(4)\n",
      "memory usage: 78.0+ KB\n"
     ]
    }
   ],
   "source": [
    "clean_data.info()"
   ]
  },
  {
   "cell_type": "markdown",
   "id": "08b695b7-67db-48fb-8b14-e12bb5a9620e",
   "metadata": {},
   "source": [
    "# Task 2 \n",
    "\n",
    "The team at International Essentials have told you that they have always believed that the number of years in the loyalty scheme is the biggest driver of spend. \n",
    "\n",
    "Producing a table showing the difference in the average spend by number of years in the loyalty programme along with the variance to investigate this question for the team.\n",
    "\n",
    " - You should start with the data in the file 'loyalty.csv'.\n",
    "\n",
    " - Your output should be a data frame named `spend_by_years`. \n",
    "\n",
    " - It should include the three columns `loyalty_years`, `avg_spend`, `var_spend`. \n",
    "\n",
    " - Your answers should be rounded to 2 decimal places.   "
   ]
  },
  {
   "cell_type": "code",
   "execution_count": 103,
   "id": "cc590298-c483-4253-bef1-a352933cbd5e",
   "metadata": {
    "executionCancelledAt": null,
    "executionTime": 50,
    "lastExecutedAt": 1716802619919,
    "lastExecutedByKernel": "d0829d6a-0a12-429c-99a9-2cc5c13e0a71",
    "lastScheduledRunId": null,
    "lastSuccessfullyExecutedCode": "# Use this cell to write your code for Task 2"
   },
   "outputs": [],
   "source": [
    "# Use this cell to write your code for Task 2"
   ]
  },
  {
   "cell_type": "code",
   "execution_count": 104,
   "id": "d4200a76-f025-42c0-8707-f64622779960",
   "metadata": {
    "executionCancelledAt": null,
    "executionTime": 46,
    "lastExecutedAt": 1716802619967,
    "lastExecutedByKernel": "d0829d6a-0a12-429c-99a9-2cc5c13e0a71",
    "lastScheduledRunId": null,
    "lastSuccessfullyExecutedCode": "df = clean_data.copy()"
   },
   "outputs": [],
   "source": [
    "df = clean_data.copy()"
   ]
  },
  {
   "cell_type": "code",
   "execution_count": 105,
   "id": "d5ca9ae7-274e-4cbf-8ddf-0504ced97d46",
   "metadata": {
    "executionCancelledAt": null,
    "executionTime": 53,
    "lastExecutedAt": 1716802620021,
    "lastExecutedByKernel": "d0829d6a-0a12-429c-99a9-2cc5c13e0a71",
    "lastScheduledRunId": null,
    "lastSuccessfullyExecutedCode": "spend_by_years = df.groupby('loyalty_years')['spend'].aggregate(['mean','var']).reset_index().round(2)\nspend_by_years.rename(columns={'mean':'avg_spend',\n                              'var':'var_spend'},inplace=True)\nspend_by_years",
    "outputsMetadata": {
     "0": {
      "height": 193,
      "type": "dataFrame"
     }
    }
   },
   "outputs": [
    {
     "data": {
      "application/com.datacamp.data-table.v2+json": {
       "table": {
        "data": {
         "avg_spend": [
          110.56,
          129.31,
          117.41,
          124.55,
          135.15
         ],
         "index": [
          0,
          1,
          2,
          3,
          4
         ],
         "loyalty_years": [
          "0-1",
          "1-3",
          "10+",
          "3-5",
          "5-10"
         ],
         "var_spend": [
          9.3,
          9.65,
          16.72,
          11.09,
          14.1
         ]
        },
        "schema": {
         "fields": [
          {
           "name": "index",
           "type": "integer"
          },
          {
           "name": "loyalty_years",
           "type": "string"
          },
          {
           "name": "avg_spend",
           "type": "number"
          },
          {
           "name": "var_spend",
           "type": "number"
          }
         ],
         "pandas_version": "1.4.0",
         "primaryKey": [
          "index"
         ]
        }
       },
       "total_rows": 5,
       "truncation_type": null
      },
      "text/html": [
       "<div>\n",
       "<style scoped>\n",
       "    .dataframe tbody tr th:only-of-type {\n",
       "        vertical-align: middle;\n",
       "    }\n",
       "\n",
       "    .dataframe tbody tr th {\n",
       "        vertical-align: top;\n",
       "    }\n",
       "\n",
       "    .dataframe thead th {\n",
       "        text-align: right;\n",
       "    }\n",
       "</style>\n",
       "<table border=\"1\" class=\"dataframe\">\n",
       "  <thead>\n",
       "    <tr style=\"text-align: right;\">\n",
       "      <th></th>\n",
       "      <th>loyalty_years</th>\n",
       "      <th>avg_spend</th>\n",
       "      <th>var_spend</th>\n",
       "    </tr>\n",
       "  </thead>\n",
       "  <tbody>\n",
       "    <tr>\n",
       "      <th>0</th>\n",
       "      <td>0-1</td>\n",
       "      <td>110.56</td>\n",
       "      <td>9.30</td>\n",
       "    </tr>\n",
       "    <tr>\n",
       "      <th>1</th>\n",
       "      <td>1-3</td>\n",
       "      <td>129.31</td>\n",
       "      <td>9.65</td>\n",
       "    </tr>\n",
       "    <tr>\n",
       "      <th>2</th>\n",
       "      <td>10+</td>\n",
       "      <td>117.41</td>\n",
       "      <td>16.72</td>\n",
       "    </tr>\n",
       "    <tr>\n",
       "      <th>3</th>\n",
       "      <td>3-5</td>\n",
       "      <td>124.55</td>\n",
       "      <td>11.09</td>\n",
       "    </tr>\n",
       "    <tr>\n",
       "      <th>4</th>\n",
       "      <td>5-10</td>\n",
       "      <td>135.15</td>\n",
       "      <td>14.10</td>\n",
       "    </tr>\n",
       "  </tbody>\n",
       "</table>\n",
       "</div>"
      ],
      "text/plain": [
       "  loyalty_years  avg_spend  var_spend\n",
       "0           0-1     110.56       9.30\n",
       "1           1-3     129.31       9.65\n",
       "2           10+     117.41      16.72\n",
       "3           3-5     124.55      11.09\n",
       "4          5-10     135.15      14.10"
      ]
     },
     "execution_count": 105,
     "metadata": {},
     "output_type": "execute_result"
    }
   ],
   "source": [
    "spend_by_years = df.groupby('loyalty_years')['spend'].aggregate(['mean','var']).reset_index().round(2)\n",
    "spend_by_years.rename(columns={'mean':'avg_spend',\n",
    "                              'var':'var_spend'},inplace=True)\n",
    "spend_by_years"
   ]
  },
  {
   "cell_type": "markdown",
   "id": "7113acde-8a74-487a-8983-f0c93003d945",
   "metadata": {},
   "source": [
    "# Task 3\n",
    "\n",
    "Fit a baseline model to predict the spend over the year for each customer.\n",
    "\n",
    " 1. Fit your model using the data contained in “train.csv” </br></br>\n",
    "\n",
    " 2. Use “test.csv” to predict new values based on your model. You must return a dataframe named `base_result`, that includes `customer_id` and `spend`. The `spend` column must be your predicted values."
   ]
  },
  {
   "cell_type": "code",
   "execution_count": 106,
   "id": "79a77f11-b09b-4d70-893b-535dfde919b2",
   "metadata": {
    "executionCancelledAt": null,
    "executionTime": 50,
    "lastExecutedAt": 1716802620071,
    "lastExecutedByKernel": "d0829d6a-0a12-429c-99a9-2cc5c13e0a71",
    "lastScheduledRunId": null,
    "lastSuccessfullyExecutedCode": "# Use this cell to write your code for Task 3"
   },
   "outputs": [],
   "source": [
    "# Use this cell to write your code for Task 3"
   ]
  },
  {
   "cell_type": "code",
   "execution_count": 107,
   "id": "221d7a4c-021c-40c3-8158-963f37673af6",
   "metadata": {
    "executionCancelledAt": null,
    "executionTime": 46,
    "lastExecutedAt": 1716802620119,
    "lastExecutedByKernel": "d0829d6a-0a12-429c-99a9-2cc5c13e0a71",
    "lastScheduledRunId": null,
    "lastSuccessfullyExecutedCode": "from sklearn.linear_model import LinearRegression\nfrom sklearn.tree import DecisionTreeRegressor"
   },
   "outputs": [],
   "source": [
    "from sklearn.linear_model import LinearRegression\n",
    "from sklearn.tree import DecisionTreeRegressor"
   ]
  },
  {
   "cell_type": "code",
   "execution_count": 108,
   "id": "05b0055a-3e99-4bf1-8dda-b1a1a52e3457",
   "metadata": {
    "executionCancelledAt": null,
    "executionTime": 52,
    "lastExecutedAt": 1716802620172,
    "lastExecutedByKernel": "d0829d6a-0a12-429c-99a9-2cc5c13e0a71",
    "lastScheduledRunId": null,
    "lastSuccessfullyExecutedCode": "train_data = wrangle(\"train.csv\")\ntest_data = pd.read_csv(\"test.csv\")\n\ntrain_dum = pd.get_dummies(train_data,columns=['region','loyalty_years','joining_month','promotion'])\ntest_dum = pd.get_dummies(test_data,columns=['region','loyalty_years','joining_month','promotion'])\n\nX_train = train_dum.drop(columns='spend')\ny_train = train_dum['spend']\n\nbase_model = LinearRegression()\nbase_model.fit(X_train,y_train)\nbase_pred = base_model.predict(test_dum)\n\ntest_data['spend'] = base_pred.round(2)\nbase_result = test_data[['customer_id','spend']]\nbase_result.head()",
    "outputsMetadata": {
     "0": {
      "height": 193,
      "type": "dataFrame"
     }
    }
   },
   "outputs": [
    {
     "data": {
      "application/com.datacamp.data-table.v2+json": {
       "table": {
        "data": {
         "customer_id": [
          5,
          7,
          16,
          17,
          19
         ],
         "index": [
          0,
          1,
          2,
          3,
          4
         ],
         "spend": [
          140.71,
          148.74,
          140.82,
          150.66,
          153.64
         ]
        },
        "schema": {
         "fields": [
          {
           "name": "index",
           "type": "integer"
          },
          {
           "name": "customer_id",
           "type": "integer"
          },
          {
           "name": "spend",
           "type": "number"
          }
         ],
         "pandas_version": "1.4.0",
         "primaryKey": [
          "index"
         ]
        }
       },
       "total_rows": 5,
       "truncation_type": null
      },
      "text/html": [
       "<div>\n",
       "<style scoped>\n",
       "    .dataframe tbody tr th:only-of-type {\n",
       "        vertical-align: middle;\n",
       "    }\n",
       "\n",
       "    .dataframe tbody tr th {\n",
       "        vertical-align: top;\n",
       "    }\n",
       "\n",
       "    .dataframe thead th {\n",
       "        text-align: right;\n",
       "    }\n",
       "</style>\n",
       "<table border=\"1\" class=\"dataframe\">\n",
       "  <thead>\n",
       "    <tr style=\"text-align: right;\">\n",
       "      <th></th>\n",
       "      <th>customer_id</th>\n",
       "      <th>spend</th>\n",
       "    </tr>\n",
       "  </thead>\n",
       "  <tbody>\n",
       "    <tr>\n",
       "      <th>0</th>\n",
       "      <td>5</td>\n",
       "      <td>140.71</td>\n",
       "    </tr>\n",
       "    <tr>\n",
       "      <th>1</th>\n",
       "      <td>7</td>\n",
       "      <td>148.74</td>\n",
       "    </tr>\n",
       "    <tr>\n",
       "      <th>2</th>\n",
       "      <td>16</td>\n",
       "      <td>140.82</td>\n",
       "    </tr>\n",
       "    <tr>\n",
       "      <th>3</th>\n",
       "      <td>17</td>\n",
       "      <td>150.66</td>\n",
       "    </tr>\n",
       "    <tr>\n",
       "      <th>4</th>\n",
       "      <td>19</td>\n",
       "      <td>153.64</td>\n",
       "    </tr>\n",
       "  </tbody>\n",
       "</table>\n",
       "</div>"
      ],
      "text/plain": [
       "   customer_id   spend\n",
       "0            5  140.71\n",
       "1            7  148.74\n",
       "2           16  140.82\n",
       "3           17  150.66\n",
       "4           19  153.64"
      ]
     },
     "execution_count": 108,
     "metadata": {},
     "output_type": "execute_result"
    }
   ],
   "source": [
    "train_data = wrangle(\"train.csv\")\n",
    "test_data = pd.read_csv(\"test.csv\")\n",
    "\n",
    "train_dum = pd.get_dummies(train_data,columns=['region','loyalty_years','joining_month','promotion'])\n",
    "test_dum = pd.get_dummies(test_data,columns=['region','loyalty_years','joining_month','promotion'])\n",
    "\n",
    "X_train = train_dum.drop(columns='spend')\n",
    "y_train = train_dum['spend']\n",
    "\n",
    "base_model = LinearRegression()\n",
    "base_model.fit(X_train,y_train)\n",
    "base_pred = base_model.predict(test_dum)\n",
    "\n",
    "test_data['spend'] = base_pred.round(2)\n",
    "base_result = test_data[['customer_id','spend']]\n",
    "base_result.head()"
   ]
  },
  {
   "cell_type": "markdown",
   "id": "44033abf-a603-479e-8663-9a96fefee5a2",
   "metadata": {},
   "source": [
    "# Task 4\n",
    "\n",
    "Fit a comparison model to predict the sale price of a house.\n",
    "\n",
    " 1. Fit your model using the data contained in “train.csv” </br></br>\n",
    "\n",
    " 2. Use “test.csv” to predict new values based on your model. You must return a dataframe named `compare_result`, that includes `customer_id` and `spend`. The `spend` column must be your predicted values."
   ]
  },
  {
   "cell_type": "code",
   "execution_count": 109,
   "id": "731cfa01-2709-413a-ac19-611e73e37c75",
   "metadata": {
    "executionCancelledAt": null,
    "executionTime": 111,
    "lastExecutedAt": 1716802620284,
    "lastExecutedByKernel": "d0829d6a-0a12-429c-99a9-2cc5c13e0a71",
    "lastScheduledRunId": null,
    "lastSuccessfullyExecutedCode": "# Use this cell to write your code for Task 4"
   },
   "outputs": [],
   "source": [
    "# Use this cell to write your code for Task 4"
   ]
  },
  {
   "cell_type": "code",
   "execution_count": 110,
   "id": "53fa2e70-8310-4034-9d1a-7e2ecf2294c1",
   "metadata": {
    "executionCancelledAt": null,
    "executionTime": 61,
    "lastExecutedAt": 1716802620345,
    "lastExecutedByKernel": "d0829d6a-0a12-429c-99a9-2cc5c13e0a71",
    "lastScheduledRunId": null,
    "lastSuccessfullyExecutedCode": "comp_model = DecisionTreeRegressor()\ncomp_model.fit(X_train,y_train)\ncomp_pred = comp_model.predict(test_dum)\n\ntest_data['spend'] = comp_pred.round(2)\ncompare_result = test_data[['customer_id','spend']]\ncompare_result.head()",
    "outputsMetadata": {
     "0": {
      "height": 193,
      "type": "dataFrame"
     }
    }
   },
   "outputs": [
    {
     "data": {
      "application/com.datacamp.data-table.v2+json": {
       "table": {
        "data": {
         "customer_id": [
          5,
          7,
          16,
          17,
          19
         ],
         "index": [
          0,
          1,
          2,
          3,
          4
         ],
         "spend": [
          140.2,
          148.35,
          141.02,
          151.16,
          153.68
         ]
        },
        "schema": {
         "fields": [
          {
           "name": "index",
           "type": "integer"
          },
          {
           "name": "customer_id",
           "type": "integer"
          },
          {
           "name": "spend",
           "type": "number"
          }
         ],
         "pandas_version": "1.4.0",
         "primaryKey": [
          "index"
         ]
        }
       },
       "total_rows": 5,
       "truncation_type": null
      },
      "text/html": [
       "<div>\n",
       "<style scoped>\n",
       "    .dataframe tbody tr th:only-of-type {\n",
       "        vertical-align: middle;\n",
       "    }\n",
       "\n",
       "    .dataframe tbody tr th {\n",
       "        vertical-align: top;\n",
       "    }\n",
       "\n",
       "    .dataframe thead th {\n",
       "        text-align: right;\n",
       "    }\n",
       "</style>\n",
       "<table border=\"1\" class=\"dataframe\">\n",
       "  <thead>\n",
       "    <tr style=\"text-align: right;\">\n",
       "      <th></th>\n",
       "      <th>customer_id</th>\n",
       "      <th>spend</th>\n",
       "    </tr>\n",
       "  </thead>\n",
       "  <tbody>\n",
       "    <tr>\n",
       "      <th>0</th>\n",
       "      <td>5</td>\n",
       "      <td>140.20</td>\n",
       "    </tr>\n",
       "    <tr>\n",
       "      <th>1</th>\n",
       "      <td>7</td>\n",
       "      <td>148.35</td>\n",
       "    </tr>\n",
       "    <tr>\n",
       "      <th>2</th>\n",
       "      <td>16</td>\n",
       "      <td>141.02</td>\n",
       "    </tr>\n",
       "    <tr>\n",
       "      <th>3</th>\n",
       "      <td>17</td>\n",
       "      <td>151.16</td>\n",
       "    </tr>\n",
       "    <tr>\n",
       "      <th>4</th>\n",
       "      <td>19</td>\n",
       "      <td>153.68</td>\n",
       "    </tr>\n",
       "  </tbody>\n",
       "</table>\n",
       "</div>"
      ],
      "text/plain": [
       "   customer_id   spend\n",
       "0            5  140.20\n",
       "1            7  148.35\n",
       "2           16  141.02\n",
       "3           17  151.16\n",
       "4           19  153.68"
      ]
     },
     "execution_count": 110,
     "metadata": {},
     "output_type": "execute_result"
    }
   ],
   "source": [
    "comp_model = DecisionTreeRegressor()\n",
    "comp_model.fit(X_train,y_train)\n",
    "comp_pred = comp_model.predict(test_dum)\n",
    "\n",
    "test_data['spend'] = comp_pred.round(2)\n",
    "compare_result = test_data[['customer_id','spend']]\n",
    "compare_result.head()"
   ]
  }
 ],
 "metadata": {
  "colab": {
   "name": "Welcome to DataCamp Workspaces.ipynb",
   "provenance": []
  },
  "kernelspec": {
   "display_name": "Python 3 (ipykernel)",
   "language": "python",
   "name": "python3"
  },
  "language_info": {
   "codemirror_mode": {
    "name": "ipython",
    "version": 3
   },
   "file_extension": ".py",
   "mimetype": "text/x-python",
   "name": "python",
   "nbconvert_exporter": "python",
   "pygments_lexer": "ipython3",
   "version": "3.11.3"
  }
 },
 "nbformat": 4,
 "nbformat_minor": 5
}
